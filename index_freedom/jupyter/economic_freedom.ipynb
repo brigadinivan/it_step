{
 "cells": [
  {
   "cell_type": "code",
   "execution_count": 1,
   "id": "02215c17",
   "metadata": {},
   "outputs": [],
   "source": [
    "import pandas as pd\n",
    "import numpy as np\n",
    "import matplotlib.pyplot as plt"
   ]
  },
  {
   "cell_type": "markdown",
   "id": "3af5031a",
   "metadata": {},
   "source": [
    "### часть 1. Исследование связи между ВВП на душу населения и Индексом экономической свободы"
   ]
  },
  {
   "cell_type": "code",
   "execution_count": 6,
   "id": "ab17c41a",
   "metadata": {},
   "outputs": [
    {
     "data": {
      "text/html": [
       "<div>\n",
       "<style scoped>\n",
       "    .dataframe tbody tr th:only-of-type {\n",
       "        vertical-align: middle;\n",
       "    }\n",
       "\n",
       "    .dataframe tbody tr th {\n",
       "        vertical-align: top;\n",
       "    }\n",
       "\n",
       "    .dataframe thead th {\n",
       "        text-align: right;\n",
       "    }\n",
       "</style>\n",
       "<table border=\"1\" class=\"dataframe\">\n",
       "  <thead>\n",
       "    <tr style=\"text-align: right;\">\n",
       "      <th></th>\n",
       "      <th>country_id</th>\n",
       "      <th>country_name</th>\n",
       "      <th>region</th>\n",
       "      <th>world_rank</th>\n",
       "      <th>region_rank</th>\n",
       "      <th>score_2022</th>\n",
       "      <th>property_rights</th>\n",
       "      <th>judical_effectiveness</th>\n",
       "      <th>government_integrity</th>\n",
       "      <th>tax_burden</th>\n",
       "      <th>...</th>\n",
       "      <th>gov_expenditure__%_of_GDP</th>\n",
       "      <th>population__millions</th>\n",
       "      <th>GDP__billions_PPP$</th>\n",
       "      <th>GDP_growth_rate__%</th>\n",
       "      <th>GDP_growth_rate_5_year__%</th>\n",
       "      <th>GDP_per_capita __PPP$</th>\n",
       "      <th>unemployment__%</th>\n",
       "      <th>inflation__%</th>\n",
       "      <th>FDI_inflow__millions</th>\n",
       "      <th>public_debt__% _of _GDP</th>\n",
       "    </tr>\n",
       "  </thead>\n",
       "  <tbody>\n",
       "    <tr>\n",
       "      <th>0</th>\n",
       "      <td>1</td>\n",
       "      <td>Afghanistan</td>\n",
       "      <td>Asia-Pacific</td>\n",
       "      <td>NaN</td>\n",
       "      <td>NaN</td>\n",
       "      <td>NaN</td>\n",
       "      <td>NaN</td>\n",
       "      <td>NaN</td>\n",
       "      <td>NaN</td>\n",
       "      <td>NaN</td>\n",
       "      <td>...</td>\n",
       "      <td>NaN</td>\n",
       "      <td>38.928</td>\n",
       "      <td>78.7</td>\n",
       "      <td>-5.0</td>\n",
       "      <td>1.0</td>\n",
       "      <td>2390.0</td>\n",
       "      <td>11.7</td>\n",
       "      <td>5.61</td>\n",
       "      <td>13.0</td>\n",
       "      <td>7.8</td>\n",
       "    </tr>\n",
       "    <tr>\n",
       "      <th>1</th>\n",
       "      <td>2</td>\n",
       "      <td>Albania</td>\n",
       "      <td>Europe</td>\n",
       "      <td>50.0</td>\n",
       "      <td>30.0</td>\n",
       "      <td>66.6</td>\n",
       "      <td>55.5</td>\n",
       "      <td>49.8</td>\n",
       "      <td>35.6</td>\n",
       "      <td>89.1</td>\n",
       "      <td>...</td>\n",
       "      <td>30.5</td>\n",
       "      <td>2.838</td>\n",
       "      <td>40.7</td>\n",
       "      <td>-3.5</td>\n",
       "      <td>2.0</td>\n",
       "      <td>14218.1</td>\n",
       "      <td>11.7</td>\n",
       "      <td>1.60</td>\n",
       "      <td>1107.0</td>\n",
       "      <td>76.0</td>\n",
       "    </tr>\n",
       "    <tr>\n",
       "      <th>2</th>\n",
       "      <td>3</td>\n",
       "      <td>Algeria</td>\n",
       "      <td>Middle East and North Africa</td>\n",
       "      <td>167.0</td>\n",
       "      <td>13.0</td>\n",
       "      <td>45.8</td>\n",
       "      <td>27.9</td>\n",
       "      <td>29.7</td>\n",
       "      <td>30.1</td>\n",
       "      <td>67.2</td>\n",
       "      <td>...</td>\n",
       "      <td>37.8</td>\n",
       "      <td>43.851</td>\n",
       "      <td>491.5</td>\n",
       "      <td>-6.0</td>\n",
       "      <td>0.1</td>\n",
       "      <td>11112.2</td>\n",
       "      <td>12.8</td>\n",
       "      <td>2.42</td>\n",
       "      <td>1125.0</td>\n",
       "      <td>53.1</td>\n",
       "    </tr>\n",
       "    <tr>\n",
       "      <th>3</th>\n",
       "      <td>4</td>\n",
       "      <td>Angola</td>\n",
       "      <td>Sub-Saharan Africa</td>\n",
       "      <td>139.0</td>\n",
       "      <td>29.0</td>\n",
       "      <td>52.6</td>\n",
       "      <td>39.8</td>\n",
       "      <td>25.3</td>\n",
       "      <td>20.6</td>\n",
       "      <td>86.6</td>\n",
       "      <td>...</td>\n",
       "      <td>21.3</td>\n",
       "      <td>32.866</td>\n",
       "      <td>215.1</td>\n",
       "      <td>-4.0</td>\n",
       "      <td>-1.9</td>\n",
       "      <td>6931.9</td>\n",
       "      <td>7.7</td>\n",
       "      <td>22.28</td>\n",
       "      <td>-1866.0</td>\n",
       "      <td>127.1</td>\n",
       "    </tr>\n",
       "    <tr>\n",
       "      <th>4</th>\n",
       "      <td>5</td>\n",
       "      <td>Argentina</td>\n",
       "      <td>Americas</td>\n",
       "      <td>144.0</td>\n",
       "      <td>27.0</td>\n",
       "      <td>50.1</td>\n",
       "      <td>35.1</td>\n",
       "      <td>57.9</td>\n",
       "      <td>45.1</td>\n",
       "      <td>73.3</td>\n",
       "      <td>...</td>\n",
       "      <td>39.6</td>\n",
       "      <td>45.377</td>\n",
       "      <td>941.8</td>\n",
       "      <td>-10.0</td>\n",
       "      <td>-2.8</td>\n",
       "      <td>20751.0</td>\n",
       "      <td>11.7</td>\n",
       "      <td>42.02</td>\n",
       "      <td>4123.0</td>\n",
       "      <td>103.0</td>\n",
       "    </tr>\n",
       "  </tbody>\n",
       "</table>\n",
       "<p>5 rows × 32 columns</p>\n",
       "</div>"
      ],
      "text/plain": [
       "   country_id country_name                        region  world_rank  \\\n",
       "0           1  Afghanistan                  Asia-Pacific         NaN   \n",
       "1           2      Albania                        Europe        50.0   \n",
       "2           3      Algeria  Middle East and North Africa       167.0   \n",
       "3           4       Angola            Sub-Saharan Africa       139.0   \n",
       "4           5    Argentina                      Americas       144.0   \n",
       "\n",
       "   region_rank  score_2022  property_rights  judical_effectiveness  \\\n",
       "0          NaN         NaN              NaN                    NaN   \n",
       "1         30.0        66.6             55.5                   49.8   \n",
       "2         13.0        45.8             27.9                   29.7   \n",
       "3         29.0        52.6             39.8                   25.3   \n",
       "4         27.0        50.1             35.1                   57.9   \n",
       "\n",
       "   government_integrity  tax_burden  ...  gov_expenditure__%_of_GDP   \\\n",
       "0                   NaN         NaN  ...                         NaN   \n",
       "1                  35.6        89.1  ...                        30.5   \n",
       "2                  30.1        67.2  ...                        37.8   \n",
       "3                  20.6        86.6  ...                        21.3   \n",
       "4                  45.1        73.3  ...                        39.6   \n",
       "\n",
       "   population__millions  GDP__billions_PPP$  GDP_growth_rate__%  \\\n",
       "0                38.928                78.7                -5.0   \n",
       "1                 2.838                40.7                -3.5   \n",
       "2                43.851               491.5                -6.0   \n",
       "3                32.866               215.1                -4.0   \n",
       "4                45.377               941.8               -10.0   \n",
       "\n",
       "   GDP_growth_rate_5_year__%  GDP_per_capita __PPP$  unemployment__%  \\\n",
       "0                        1.0                 2390.0             11.7   \n",
       "1                        2.0                14218.1             11.7   \n",
       "2                        0.1                11112.2             12.8   \n",
       "3                       -1.9                 6931.9              7.7   \n",
       "4                       -2.8                20751.0             11.7   \n",
       "\n",
       "   inflation__%  FDI_inflow__millions  public_debt__% _of _GDP  \n",
       "0          5.61                  13.0                      7.8  \n",
       "1          1.60                1107.0                     76.0  \n",
       "2          2.42                1125.0                     53.1  \n",
       "3         22.28               -1866.0                    127.1  \n",
       "4         42.02                4123.0                    103.0  \n",
       "\n",
       "[5 rows x 32 columns]"
      ]
     },
     "execution_count": 6,
     "metadata": {},
     "output_type": "execute_result"
    }
   ],
   "source": [
    "index_2022 = pd.read_excel(\"index_2022.xlsx\")\n",
    "index_2022.head()"
   ]
  },
  {
   "cell_type": "code",
   "execution_count": 7,
   "id": "0874874a",
   "metadata": {},
   "outputs": [
    {
     "name": "stdout",
     "output_type": "stream",
     "text": [
      "<class 'pandas.core.frame.DataFrame'>\n",
      "RangeIndex: 184 entries, 0 to 183\n",
      "Data columns (total 32 columns):\n",
      " #   Column                      Non-Null Count  Dtype  \n",
      "---  ------                      --------------  -----  \n",
      " 0   country_id                  184 non-null    int64  \n",
      " 1   country_name                184 non-null    object \n",
      " 2   region                      184 non-null    object \n",
      " 3   world_rank                  177 non-null    float64\n",
      " 4   region_rank                 177 non-null    float64\n",
      " 5   score_2022                  177 non-null    float64\n",
      " 6   property_rights             177 non-null    float64\n",
      " 7   judical_effectiveness       177 non-null    float64\n",
      " 8   government_integrity        177 non-null    float64\n",
      " 9   tax_burden                  177 non-null    float64\n",
      " 10  gov_spending                177 non-null    float64\n",
      " 11  fiscal_health               177 non-null    float64\n",
      " 12  business_freedom            177 non-null    float64\n",
      " 13  labor_freedom               177 non-null    float64\n",
      " 14  monetary_freedom            177 non-null    float64\n",
      " 15  trade_freedom               177 non-null    float64\n",
      " 16  investment_freedom          177 non-null    float64\n",
      " 17  financial_freedom           177 non-null    float64\n",
      " 18  tariff_rate__%              176 non-null    float64\n",
      " 19  income_tax_rate__%          182 non-null    float64\n",
      " 20  corporate_tax_rate__%       182 non-null    float64\n",
      " 21  tax_burden__%_of_GDP        178 non-null    float64\n",
      " 22  gov_expenditure__%_of_GDP   177 non-null    float64\n",
      " 23  population__millions        184 non-null    float64\n",
      " 24  GDP__billions_PPP$          181 non-null    float64\n",
      " 25  GDP_growth_rate__%          183 non-null    float64\n",
      " 26  GDP_growth_rate_5_year__%   183 non-null    float64\n",
      " 27  GDP_per_capita __PPP$       184 non-null    float64\n",
      " 28  unemployment__%             184 non-null    float64\n",
      " 29  inflation__%                184 non-null    float64\n",
      " 30  FDI_inflow__millions        180 non-null    float64\n",
      " 31  public_debt__% _of _GDP     181 non-null    float64\n",
      "dtypes: float64(29), int64(1), object(2)\n",
      "memory usage: 46.1+ KB\n"
     ]
    }
   ],
   "source": [
    "index_2022.info()"
   ]
  },
  {
   "cell_type": "code",
   "execution_count": 3,
   "id": "f5ef5b2a",
   "metadata": {},
   "outputs": [
    {
     "data": {
      "text/html": [
       "<div>\n",
       "<style scoped>\n",
       "    .dataframe tbody tr th:only-of-type {\n",
       "        vertical-align: middle;\n",
       "    }\n",
       "\n",
       "    .dataframe tbody tr th {\n",
       "        vertical-align: top;\n",
       "    }\n",
       "\n",
       "    .dataframe thead th {\n",
       "        text-align: right;\n",
       "    }\n",
       "</style>\n",
       "<table border=\"1\" class=\"dataframe\">\n",
       "  <thead>\n",
       "    <tr style=\"text-align: right;\">\n",
       "      <th></th>\n",
       "      <th>country_id</th>\n",
       "      <th>world_rank</th>\n",
       "      <th>region_rank</th>\n",
       "      <th>score_2022</th>\n",
       "      <th>property_rights</th>\n",
       "      <th>judical_effectiveness</th>\n",
       "      <th>government_integrity</th>\n",
       "      <th>tax_burden</th>\n",
       "      <th>gov_spending</th>\n",
       "      <th>fiscal_health</th>\n",
       "      <th>...</th>\n",
       "      <th>gov_expenditure__%_of_GDP</th>\n",
       "      <th>population__millions</th>\n",
       "      <th>GDP__billions_PPP$</th>\n",
       "      <th>GDP_growth_rate__%</th>\n",
       "      <th>GDP_growth_rate_5_year__%</th>\n",
       "      <th>GDP_per_capita __PPP$</th>\n",
       "      <th>unemployment__%</th>\n",
       "      <th>inflation__%</th>\n",
       "      <th>FDI_inflow__millions</th>\n",
       "      <th>public_debt__% _of _GDP</th>\n",
       "    </tr>\n",
       "  </thead>\n",
       "  <tbody>\n",
       "    <tr>\n",
       "      <th>count</th>\n",
       "      <td>184.000000</td>\n",
       "      <td>177.000000</td>\n",
       "      <td>177.000000</td>\n",
       "      <td>177.00000</td>\n",
       "      <td>177.000000</td>\n",
       "      <td>177.000000</td>\n",
       "      <td>177.000000</td>\n",
       "      <td>177.000000</td>\n",
       "      <td>177.000000</td>\n",
       "      <td>177.000000</td>\n",
       "      <td>...</td>\n",
       "      <td>177.000000</td>\n",
       "      <td>184.000000</td>\n",
       "      <td>181.000000</td>\n",
       "      <td>183.000000</td>\n",
       "      <td>183.000000</td>\n",
       "      <td>184.000000</td>\n",
       "      <td>184.000000</td>\n",
       "      <td>184.000000</td>\n",
       "      <td>180.000000</td>\n",
       "      <td>181.000000</td>\n",
       "    </tr>\n",
       "    <tr>\n",
       "      <th>mean</th>\n",
       "      <td>93.586957</td>\n",
       "      <td>89.000000</td>\n",
       "      <td>20.203390</td>\n",
       "      <td>59.99887</td>\n",
       "      <td>55.286441</td>\n",
       "      <td>50.233333</td>\n",
       "      <td>45.348023</td>\n",
       "      <td>77.884181</td>\n",
       "      <td>65.036723</td>\n",
       "      <td>60.589831</td>\n",
       "      <td>...</td>\n",
       "      <td>32.542373</td>\n",
       "      <td>41.973217</td>\n",
       "      <td>729.093370</td>\n",
       "      <td>-5.240437</td>\n",
       "      <td>1.426230</td>\n",
       "      <td>19834.470109</td>\n",
       "      <td>7.808696</td>\n",
       "      <td>21.431576</td>\n",
       "      <td>4970.372318</td>\n",
       "      <td>69.244751</td>\n",
       "    </tr>\n",
       "    <tr>\n",
       "      <th>std</th>\n",
       "      <td>54.103352</td>\n",
       "      <td>51.239633</td>\n",
       "      <td>12.582157</td>\n",
       "      <td>11.61444</td>\n",
       "      <td>23.938589</td>\n",
       "      <td>26.824001</td>\n",
       "      <td>22.212039</td>\n",
       "      <td>13.377766</td>\n",
       "      <td>24.517711</td>\n",
       "      <td>32.574563</td>\n",
       "      <td>...</td>\n",
       "      <td>13.490816</td>\n",
       "      <td>149.686094</td>\n",
       "      <td>2545.550758</td>\n",
       "      <td>8.918009</td>\n",
       "      <td>3.164756</td>\n",
       "      <td>21113.133186</td>\n",
       "      <td>5.309197</td>\n",
       "      <td>178.397008</td>\n",
       "      <td>21639.775401</td>\n",
       "      <td>44.443688</td>\n",
       "    </tr>\n",
       "    <tr>\n",
       "      <th>min</th>\n",
       "      <td>1.000000</td>\n",
       "      <td>1.000000</td>\n",
       "      <td>1.000000</td>\n",
       "      <td>3.00000</td>\n",
       "      <td>0.200000</td>\n",
       "      <td>3.900000</td>\n",
       "      <td>3.800000</td>\n",
       "      <td>0.000000</td>\n",
       "      <td>0.000000</td>\n",
       "      <td>0.000000</td>\n",
       "      <td>...</td>\n",
       "      <td>10.100000</td>\n",
       "      <td>0.038000</td>\n",
       "      <td>0.300000</td>\n",
       "      <td>-64.000000</td>\n",
       "      <td>-23.500000</td>\n",
       "      <td>0.000000</td>\n",
       "      <td>0.000000</td>\n",
       "      <td>-2.720000</td>\n",
       "      <td>-115300.000000</td>\n",
       "      <td>2.900000</td>\n",
       "    </tr>\n",
       "    <tr>\n",
       "      <th>25%</th>\n",
       "      <td>46.750000</td>\n",
       "      <td>45.000000</td>\n",
       "      <td>9.000000</td>\n",
       "      <td>53.30000</td>\n",
       "      <td>37.400000</td>\n",
       "      <td>29.200000</td>\n",
       "      <td>29.400000</td>\n",
       "      <td>71.600000</td>\n",
       "      <td>53.500000</td>\n",
       "      <td>36.700000</td>\n",
       "      <td>...</td>\n",
       "      <td>22.800000</td>\n",
       "      <td>2.588500</td>\n",
       "      <td>28.700000</td>\n",
       "      <td>-7.550000</td>\n",
       "      <td>-0.100000</td>\n",
       "      <td>4568.200000</td>\n",
       "      <td>4.375000</td>\n",
       "      <td>0.487500</td>\n",
       "      <td>79.000000</td>\n",
       "      <td>42.800000</td>\n",
       "    </tr>\n",
       "    <tr>\n",
       "      <th>50%</th>\n",
       "      <td>93.500000</td>\n",
       "      <td>89.000000</td>\n",
       "      <td>19.000000</td>\n",
       "      <td>59.80000</td>\n",
       "      <td>50.400000</td>\n",
       "      <td>45.800000</td>\n",
       "      <td>41.000000</td>\n",
       "      <td>78.900000</td>\n",
       "      <td>70.200000</td>\n",
       "      <td>70.800000</td>\n",
       "      <td>...</td>\n",
       "      <td>31.500000</td>\n",
       "      <td>9.820000</td>\n",
       "      <td>100.500000</td>\n",
       "      <td>-4.100000</td>\n",
       "      <td>1.500000</td>\n",
       "      <td>12410.950000</td>\n",
       "      <td>6.400000</td>\n",
       "      <td>2.430000</td>\n",
       "      <td>645.500000</td>\n",
       "      <td>60.700000</td>\n",
       "    </tr>\n",
       "    <tr>\n",
       "      <th>75%</th>\n",
       "      <td>140.250000</td>\n",
       "      <td>133.000000</td>\n",
       "      <td>30.000000</td>\n",
       "      <td>67.60000</td>\n",
       "      <td>74.200000</td>\n",
       "      <td>74.300000</td>\n",
       "      <td>60.000000</td>\n",
       "      <td>86.900000</td>\n",
       "      <td>84.400000</td>\n",
       "      <td>88.300000</td>\n",
       "      <td>...</td>\n",
       "      <td>39.400000</td>\n",
       "      <td>31.118500</td>\n",
       "      <td>454.700000</td>\n",
       "      <td>-1.300000</td>\n",
       "      <td>2.950000</td>\n",
       "      <td>29105.750000</td>\n",
       "      <td>10.200000</td>\n",
       "      <td>4.952500</td>\n",
       "      <td>3227.000000</td>\n",
       "      <td>84.400000</td>\n",
       "    </tr>\n",
       "    <tr>\n",
       "      <th>max</th>\n",
       "      <td>186.000000</td>\n",
       "      <td>177.000000</td>\n",
       "      <td>47.000000</td>\n",
       "      <td>84.40000</td>\n",
       "      <td>100.000000</td>\n",
       "      <td>98.000000</td>\n",
       "      <td>99.500000</td>\n",
       "      <td>100.000000</td>\n",
       "      <td>97.000000</td>\n",
       "      <td>99.700000</td>\n",
       "      <td>...</td>\n",
       "      <td>119.100000</td>\n",
       "      <td>1402.112000</td>\n",
       "      <td>24142.800000</td>\n",
       "      <td>43.400000</td>\n",
       "      <td>12.100000</td>\n",
       "      <td>118001.600000</td>\n",
       "      <td>28.700000</td>\n",
       "      <td>2355.150000</td>\n",
       "      <td>156321.000000</td>\n",
       "      <td>304.100000</td>\n",
       "    </tr>\n",
       "  </tbody>\n",
       "</table>\n",
       "<p>8 rows × 30 columns</p>\n",
       "</div>"
      ],
      "text/plain": [
       "       country_id  world_rank  region_rank  score_2022  property_rights  \\\n",
       "count  184.000000  177.000000   177.000000   177.00000       177.000000   \n",
       "mean    93.586957   89.000000    20.203390    59.99887        55.286441   \n",
       "std     54.103352   51.239633    12.582157    11.61444        23.938589   \n",
       "min      1.000000    1.000000     1.000000     3.00000         0.200000   \n",
       "25%     46.750000   45.000000     9.000000    53.30000        37.400000   \n",
       "50%     93.500000   89.000000    19.000000    59.80000        50.400000   \n",
       "75%    140.250000  133.000000    30.000000    67.60000        74.200000   \n",
       "max    186.000000  177.000000    47.000000    84.40000       100.000000   \n",
       "\n",
       "       judical_effectiveness  government_integrity  tax_burden  gov_spending  \\\n",
       "count             177.000000            177.000000  177.000000    177.000000   \n",
       "mean               50.233333             45.348023   77.884181     65.036723   \n",
       "std                26.824001             22.212039   13.377766     24.517711   \n",
       "min                 3.900000              3.800000    0.000000      0.000000   \n",
       "25%                29.200000             29.400000   71.600000     53.500000   \n",
       "50%                45.800000             41.000000   78.900000     70.200000   \n",
       "75%                74.300000             60.000000   86.900000     84.400000   \n",
       "max                98.000000             99.500000  100.000000     97.000000   \n",
       "\n",
       "       fiscal_health  ...  gov_expenditure__%_of_GDP   population__millions  \\\n",
       "count     177.000000  ...                  177.000000            184.000000   \n",
       "mean       60.589831  ...                   32.542373             41.973217   \n",
       "std        32.574563  ...                   13.490816            149.686094   \n",
       "min         0.000000  ...                   10.100000              0.038000   \n",
       "25%        36.700000  ...                   22.800000              2.588500   \n",
       "50%        70.800000  ...                   31.500000              9.820000   \n",
       "75%        88.300000  ...                   39.400000             31.118500   \n",
       "max        99.700000  ...                  119.100000           1402.112000   \n",
       "\n",
       "       GDP__billions_PPP$  GDP_growth_rate__%  GDP_growth_rate_5_year__%  \\\n",
       "count          181.000000          183.000000                 183.000000   \n",
       "mean           729.093370           -5.240437                   1.426230   \n",
       "std           2545.550758            8.918009                   3.164756   \n",
       "min              0.300000          -64.000000                 -23.500000   \n",
       "25%             28.700000           -7.550000                  -0.100000   \n",
       "50%            100.500000           -4.100000                   1.500000   \n",
       "75%            454.700000           -1.300000                   2.950000   \n",
       "max          24142.800000           43.400000                  12.100000   \n",
       "\n",
       "       GDP_per_capita __PPP$  unemployment__%  inflation__%  \\\n",
       "count             184.000000       184.000000    184.000000   \n",
       "mean            19834.470109         7.808696     21.431576   \n",
       "std             21113.133186         5.309197    178.397008   \n",
       "min                 0.000000         0.000000     -2.720000   \n",
       "25%              4568.200000         4.375000      0.487500   \n",
       "50%             12410.950000         6.400000      2.430000   \n",
       "75%             29105.750000        10.200000      4.952500   \n",
       "max            118001.600000        28.700000   2355.150000   \n",
       "\n",
       "       FDI_inflow__millions  public_debt__% _of _GDP  \n",
       "count            180.000000               181.000000  \n",
       "mean            4970.372318                69.244751  \n",
       "std            21639.775401                44.443688  \n",
       "min          -115300.000000                 2.900000  \n",
       "25%               79.000000                42.800000  \n",
       "50%              645.500000                60.700000  \n",
       "75%             3227.000000                84.400000  \n",
       "max           156321.000000               304.100000  \n",
       "\n",
       "[8 rows x 30 columns]"
      ]
     },
     "execution_count": 3,
     "metadata": {},
     "output_type": "execute_result"
    }
   ],
   "source": [
    "index_2022.describe()"
   ]
  },
  {
   "cell_type": "code",
   "execution_count": 4,
   "id": "d9603a44",
   "metadata": {},
   "outputs": [
    {
     "name": "stdout",
     "output_type": "stream",
     "text": [
      "<class 'pandas.core.frame.DataFrame'>\n",
      "RangeIndex: 184 entries, 0 to 183\n",
      "Data columns (total 2 columns):\n",
      " #   Column                 Non-Null Count  Dtype  \n",
      "---  ------                 --------------  -----  \n",
      " 0   score_2022             177 non-null    float64\n",
      " 1   GDP_per_capita __PPP$  184 non-null    float64\n",
      "dtypes: float64(2)\n",
      "memory usage: 3.0 KB\n"
     ]
    }
   ],
   "source": [
    "score_gdp = index_2022[['score_2022','GDP_per_capita __PPP$']]\n",
    "score_gdp.info()"
   ]
  },
  {
   "cell_type": "code",
   "execution_count": 5,
   "id": "11d0b3a2",
   "metadata": {},
   "outputs": [
    {
     "data": {
      "text/html": [
       "<div>\n",
       "<style scoped>\n",
       "    .dataframe tbody tr th:only-of-type {\n",
       "        vertical-align: middle;\n",
       "    }\n",
       "\n",
       "    .dataframe tbody tr th {\n",
       "        vertical-align: top;\n",
       "    }\n",
       "\n",
       "    .dataframe thead th {\n",
       "        text-align: right;\n",
       "    }\n",
       "</style>\n",
       "<table border=\"1\" class=\"dataframe\">\n",
       "  <thead>\n",
       "    <tr style=\"text-align: right;\">\n",
       "      <th></th>\n",
       "      <th>score_2022</th>\n",
       "      <th>gdp_per_capita</th>\n",
       "    </tr>\n",
       "  </thead>\n",
       "  <tbody>\n",
       "    <tr>\n",
       "      <th>0</th>\n",
       "      <td>NaN</td>\n",
       "      <td>2390.0</td>\n",
       "    </tr>\n",
       "    <tr>\n",
       "      <th>1</th>\n",
       "      <td>66.6</td>\n",
       "      <td>14218.1</td>\n",
       "    </tr>\n",
       "    <tr>\n",
       "      <th>2</th>\n",
       "      <td>45.8</td>\n",
       "      <td>11112.2</td>\n",
       "    </tr>\n",
       "    <tr>\n",
       "      <th>3</th>\n",
       "      <td>52.6</td>\n",
       "      <td>6931.9</td>\n",
       "    </tr>\n",
       "    <tr>\n",
       "      <th>4</th>\n",
       "      <td>50.1</td>\n",
       "      <td>20751.0</td>\n",
       "    </tr>\n",
       "  </tbody>\n",
       "</table>\n",
       "</div>"
      ],
      "text/plain": [
       "   score_2022  gdp_per_capita\n",
       "0         NaN          2390.0\n",
       "1        66.6         14218.1\n",
       "2        45.8         11112.2\n",
       "3        52.6          6931.9\n",
       "4        50.1         20751.0"
      ]
     },
     "execution_count": 5,
     "metadata": {},
     "output_type": "execute_result"
    }
   ],
   "source": [
    "score_gdp.columns = ['score_2022', 'gdp_per_capita'] # rename columns\n",
    "score_gdp.head()"
   ]
  },
  {
   "cell_type": "code",
   "execution_count": 6,
   "id": "66136e81",
   "metadata": {},
   "outputs": [
    {
     "name": "stdout",
     "output_type": "stream",
     "text": [
      "<class 'pandas.core.frame.DataFrame'>\n",
      "Int64Index: 177 entries, 1 to 183\n",
      "Data columns (total 2 columns):\n",
      " #   Column          Non-Null Count  Dtype  \n",
      "---  ------          --------------  -----  \n",
      " 0   score_2022      177 non-null    float64\n",
      " 1   gdp_per_capita  177 non-null    float64\n",
      "dtypes: float64(2)\n",
      "memory usage: 4.1 KB\n"
     ]
    }
   ],
   "source": [
    "score_gdp = score_gdp.dropna(how='any',axis=0) # delete rows with null values\n",
    "score_gdp.info()"
   ]
  },
  {
   "cell_type": "code",
   "execution_count": 7,
   "id": "8657747b",
   "metadata": {},
   "outputs": [
    {
     "data": {
      "text/plain": [
       "<AxesSubplot:ylabel='score_2022'>"
      ]
     },
     "execution_count": 7,
     "metadata": {},
     "output_type": "execute_result"
    },
    {
     "data": {
      "image/png": "[encoded data removed]",
      "text/plain": [
       "<Figure size 432x288 with 1 Axes>"
      ]
     },
     "metadata": {
      "needs_background": "light"
     },
     "output_type": "display_data"
    }
   ],
   "source": [
    "sns.boxplot(data=score_gdp, y='score_2022')"
   ]
  },
  {
   "cell_type": "code",
   "execution_count": 8,
   "id": "ead8f81b",
   "metadata": {},
   "outputs": [],
   "source": [
    "score_gdp = score_gdp[score_gdp['score_2022'] > 20] # убрали выброс < 20"
   ]
  },
  {
   "cell_type": "code",
   "execution_count": 9,
   "id": "ad68e8cf",
   "metadata": {},
   "outputs": [
    {
     "data": {
      "text/plain": [
       "<AxesSubplot:ylabel='score_2022'>"
      ]
     },
     "execution_count": 9,
     "metadata": {},
     "output_type": "execute_result"
    },
    {
     "data": {
      "image/png": "[encoded data removed]",
      "text/plain": [
       "<Figure size 432x288 with 1 Axes>"
      ]
     },
     "metadata": {
      "needs_background": "light"
     },
     "output_type": "display_data"
    }
   ],
   "source": [
    "sns.boxplot(data=score_gdp, y='score_2022')"
   ]
  },
  {
   "cell_type": "code",
   "execution_count": 10,
   "id": "3f1b7a13",
   "metadata": {},
   "outputs": [
    {
     "data": {
      "text/html": [
       "<div>\n",
       "<style scoped>\n",
       "    .dataframe tbody tr th:only-of-type {\n",
       "        vertical-align: middle;\n",
       "    }\n",
       "\n",
       "    .dataframe tbody tr th {\n",
       "        vertical-align: top;\n",
       "    }\n",
       "\n",
       "    .dataframe thead th {\n",
       "        text-align: right;\n",
       "    }\n",
       "</style>\n",
       "<table border=\"1\" class=\"dataframe\">\n",
       "  <thead>\n",
       "    <tr style=\"text-align: right;\">\n",
       "      <th></th>\n",
       "      <th>score_2022</th>\n",
       "      <th>gdp_per_capita</th>\n",
       "    </tr>\n",
       "  </thead>\n",
       "  <tbody>\n",
       "    <tr>\n",
       "      <th>count</th>\n",
       "      <td>176.000000</td>\n",
       "      <td>176.000000</td>\n",
       "    </tr>\n",
       "    <tr>\n",
       "      <th>mean</th>\n",
       "      <td>60.322727</td>\n",
       "      <td>20615.934091</td>\n",
       "    </tr>\n",
       "    <tr>\n",
       "      <th>std</th>\n",
       "      <td>10.816450</td>\n",
       "      <td>21248.678250</td>\n",
       "    </tr>\n",
       "    <tr>\n",
       "      <th>min</th>\n",
       "      <td>24.800000</td>\n",
       "      <td>759.900000</td>\n",
       "    </tr>\n",
       "    <tr>\n",
       "      <th>25%</th>\n",
       "      <td>53.300000</td>\n",
       "      <td>5136.525000</td>\n",
       "    </tr>\n",
       "    <tr>\n",
       "      <th>50%</th>\n",
       "      <td>59.900000</td>\n",
       "      <td>12846.150000</td>\n",
       "    </tr>\n",
       "    <tr>\n",
       "      <th>75%</th>\n",
       "      <td>67.625000</td>\n",
       "      <td>30321.100000</td>\n",
       "    </tr>\n",
       "    <tr>\n",
       "      <th>max</th>\n",
       "      <td>84.400000</td>\n",
       "      <td>118001.600000</td>\n",
       "    </tr>\n",
       "  </tbody>\n",
       "</table>\n",
       "</div>"
      ],
      "text/plain": [
       "       score_2022  gdp_per_capita\n",
       "count  176.000000      176.000000\n",
       "mean    60.322727    20615.934091\n",
       "std     10.816450    21248.678250\n",
       "min     24.800000      759.900000\n",
       "25%     53.300000     5136.525000\n",
       "50%     59.900000    12846.150000\n",
       "75%     67.625000    30321.100000\n",
       "max     84.400000   118001.600000"
      ]
     },
     "execution_count": 10,
     "metadata": {},
     "output_type": "execute_result"
    }
   ],
   "source": [
    "score_gdp.describe()"
   ]
  },
  {
   "cell_type": "code",
   "execution_count": 11,
   "id": "a719033d",
   "metadata": {},
   "outputs": [
    {
     "name": "stdout",
     "output_type": "stream",
     "text": [
      "      2\n",
      "46.2 x - 4098 x + 9.432e+04\n"
     ]
    }
   ],
   "source": [
    "params = np.polyfit(score_gdp['score_2022'], score_gdp['gdp_per_capita'],2) # 2 orders\n",
    "function = np.poly1d(params)\n",
    " \n",
    "print(function)"
   ]
  },
  {
   "cell_type": "code",
   "execution_count": 17,
   "id": "c3d4231b",
   "metadata": {},
   "outputs": [
    {
     "data": {
      "image/png": "[encoded data removed]",
      "text/plain": [
       "<Figure size 576x432 with 1 Axes>"
      ]
     },
     "metadata": {
      "needs_background": "light"
     },
     "output_type": "display_data"
    }
   ],
   "source": [
    "fig, ax1 = plt.subplots(1, 1, figsize=(8, 6))\n",
    "ax1.scatter(score_gdp['score_2022'], score_gdp['gdp_per_capita'], color = 'b', alpha = 0.5)\n",
    "x = np.linspace(24, 85)\n",
    "ax1.plot(x, function(x), color='r', linewidth=2)\n",
    "plt.grid()\n",
    "plt.xlabel(\"Индекс экономической свободы\")\n",
    "plt.ylabel(\"Доход на душу населения, $\")\n",
    "\n",
    "font = {'family': 'serif',\n",
    "        'color':  'grey',\n",
    "        'weight': 'light',\n",
    "        'size': 16}\n",
    "\n",
    "plt.text(30, 40000, 'Correlation = 0.7', fontdict=font)\n",
    "plt.show()"
   ]
  },
  {
   "cell_type": "markdown",
   "id": "cf951a84",
   "metadata": {},
   "source": [
    "видна сильная положительная связь между индексом экономической свободы и уровнем дохода на душу населения"
   ]
  },
  {
   "cell_type": "code",
   "execution_count": 13,
   "id": "b106d8d7",
   "metadata": {},
   "outputs": [
    {
     "data": {
      "text/html": [
       "<div>\n",
       "<style scoped>\n",
       "    .dataframe tbody tr th:only-of-type {\n",
       "        vertical-align: middle;\n",
       "    }\n",
       "\n",
       "    .dataframe tbody tr th {\n",
       "        vertical-align: top;\n",
       "    }\n",
       "\n",
       "    .dataframe thead th {\n",
       "        text-align: right;\n",
       "    }\n",
       "</style>\n",
       "<table border=\"1\" class=\"dataframe\">\n",
       "  <thead>\n",
       "    <tr style=\"text-align: right;\">\n",
       "      <th></th>\n",
       "      <th>score_2022</th>\n",
       "      <th>gdp_per_capita</th>\n",
       "    </tr>\n",
       "  </thead>\n",
       "  <tbody>\n",
       "    <tr>\n",
       "      <th>score_2022</th>\n",
       "      <td>1.000000</td>\n",
       "      <td>0.702672</td>\n",
       "    </tr>\n",
       "    <tr>\n",
       "      <th>gdp_per_capita</th>\n",
       "      <td>0.702672</td>\n",
       "      <td>1.000000</td>\n",
       "    </tr>\n",
       "  </tbody>\n",
       "</table>\n",
       "</div>"
      ],
      "text/plain": [
       "                score_2022  gdp_per_capita\n",
       "score_2022        1.000000        0.702672\n",
       "gdp_per_capita    0.702672        1.000000"
      ]
     },
     "execution_count": 13,
     "metadata": {},
     "output_type": "execute_result"
    }
   ],
   "source": [
    "score_gdp[['score_2022', 'gdp_per_capita']].corr() # коэффициент корреляции"
   ]
  },
  {
   "cell_type": "code",
   "execution_count": null,
   "id": "ba8000a5",
   "metadata": {},
   "outputs": [],
   "source": []
  },
  {
   "cell_type": "markdown",
   "id": "07c5b7ec",
   "metadata": {},
   "source": [
    "### часть 2. Определение среднего ВВП в зависимости от категории Индекса"
   ]
  },
  {
   "cell_type": "code",
   "execution_count": 2,
   "id": "d2218d92",
   "metadata": {},
   "outputs": [
    {
     "data": {
      "text/html": [
       "<div>\n",
       "<style scoped>\n",
       "    .dataframe tbody tr th:only-of-type {\n",
       "        vertical-align: middle;\n",
       "    }\n",
       "\n",
       "    .dataframe tbody tr th {\n",
       "        vertical-align: top;\n",
       "    }\n",
       "\n",
       "    .dataframe thead th {\n",
       "        text-align: right;\n",
       "    }\n",
       "</style>\n",
       "<table border=\"1\" class=\"dataframe\">\n",
       "  <thead>\n",
       "    <tr style=\"text-align: right;\">\n",
       "      <th></th>\n",
       "      <th>avg_gdp_per_capita</th>\n",
       "      <th>rating</th>\n",
       "    </tr>\n",
       "  </thead>\n",
       "  <tbody>\n",
       "    <tr>\n",
       "      <th>5</th>\n",
       "      <td>3020</td>\n",
       "      <td>not_grated</td>\n",
       "    </tr>\n",
       "    <tr>\n",
       "      <th>4</th>\n",
       "      <td>6874</td>\n",
       "      <td>repressed</td>\n",
       "    </tr>\n",
       "    <tr>\n",
       "      <th>3</th>\n",
       "      <td>9917</td>\n",
       "      <td>mostly_unfree</td>\n",
       "    </tr>\n",
       "    <tr>\n",
       "      <th>2</th>\n",
       "      <td>21803</td>\n",
       "      <td>moderately_free</td>\n",
       "    </tr>\n",
       "    <tr>\n",
       "      <th>1</th>\n",
       "      <td>42519</td>\n",
       "      <td>mostly_free</td>\n",
       "    </tr>\n",
       "    <tr>\n",
       "      <th>0</th>\n",
       "      <td>73973</td>\n",
       "      <td>free</td>\n",
       "    </tr>\n",
       "  </tbody>\n",
       "</table>\n",
       "</div>"
      ],
      "text/plain": [
       "   avg_gdp_per_capita           rating\n",
       "5                3020       not_grated\n",
       "4                6874        repressed\n",
       "3                9917    mostly_unfree\n",
       "2               21803  moderately_free\n",
       "1               42519      mostly_free\n",
       "0               73973             free"
      ]
     },
     "execution_count": 2,
     "metadata": {},
     "output_type": "execute_result"
    }
   ],
   "source": [
    "gdp_avg = pd.read_csv(\"gdp_avg.csv\").sort_values(by = 'avg_gdp_per_capita', ascending = True)\n",
    "gdp_avg"
   ]
  },
  {
   "cell_type": "code",
   "execution_count": 3,
   "id": "6b44d6ab",
   "metadata": {},
   "outputs": [],
   "source": [
    "x = gdp_avg['rating'].to_numpy()\n",
    "y = gdp_avg['avg_gdp_per_capita'].to_numpy()"
   ]
  },
  {
   "cell_type": "code",
   "execution_count": 4,
   "id": "87e10121",
   "metadata": {},
   "outputs": [
    {
     "data": {
      "image/png": "[encoded data removed]",
      "text/plain": [
       "<Figure size 1080x360 with 1 Axes>"
      ]
     },
     "metadata": {
      "needs_background": "light"
     },
     "output_type": "display_data"
    }
   ],
   "source": [
    "fig = plt.figure(figsize =(15, 5))\n",
    "\n",
    "bar_labels = ['brown', 'lightgreen', 'yellow', 'red', 'purple', 'brown']\n",
    "bar_colors = ['tab:brown', 'tab:red', 'tab:orange', 'tab:cyan', 'tab:olive', 'tab:green']\n",
    "\n",
    "plt.bar(x, y,label = bar_labels, color= bar_colors, width = 0.8, ec = 'black')\n",
    "\n",
    "for i in range(len(x)):\n",
    "    plt.text(i, y[i], y[i], ha = 'center', va = 'bottom')\n",
    "    \n",
    "plt.xlabel('Category in the 2022 Index of Economic Freedom')\n",
    "\n",
    "plt.ylabel('Average GDP per Capita, $')\n",
    "plt.ylim([0,80000])\n",
    "plt.title(\"Average GDP per Capita by category\")\n",
    "plt.show()"
   ]
  },
  {
   "cell_type": "code",
   "execution_count": null,
   "id": "59908cb7",
   "metadata": {},
   "outputs": [],
   "source": []
  },
  {
   "cell_type": "markdown",
   "id": "420de37e",
   "metadata": {},
   "source": [
    "###  part 3. Index Freedom vs Legatum Prosperity"
   ]
  },
  {
   "cell_type": "markdown",
   "id": "df86ca1d",
   "metadata": {},
   "source": [
    "Условия предприятия. Некоторым НПО удалось повысить благосостояние на местном уровне, работая с местными предприятиями над выявлением препятствий на пути открытия, ведения и развития бизнеса и разрабатывая совместные подходы к их устранению на местном и национальном уровне.\n",
    "\n",
    "Столп «Условия предприятия» измеряет степень, в которой нормативные положения позволяют предприятиям начинать, конкурировать и расширяться.\n",
    "\n",
    "Условия предприятия измеряют, насколько легко компаниям начинать, конкурировать и расширяться. Конкурентоспособные рынки с низкими барьерами для входа важны для бизнеса, так как позволяют внедрять инновации и развивать новые идеи. Это необходимо для динамичной и предприимчивой экономики, где регулирование способствует развитию бизнеса и отвечает меняющимся потребностям общества."
   ]
  },
  {
   "cell_type": "code",
   "execution_count": 5,
   "id": "5b5db245",
   "metadata": {},
   "outputs": [
    {
     "data": {
      "text/html": [
       "<div>\n",
       "<style scoped>\n",
       "    .dataframe tbody tr th:only-of-type {\n",
       "        vertical-align: middle;\n",
       "    }\n",
       "\n",
       "    .dataframe tbody tr th {\n",
       "        vertical-align: top;\n",
       "    }\n",
       "\n",
       "    .dataframe thead th {\n",
       "        text-align: right;\n",
       "    }\n",
       "</style>\n",
       "<table border=\"1\" class=\"dataframe\">\n",
       "  <thead>\n",
       "    <tr style=\"text-align: right;\">\n",
       "      <th></th>\n",
       "      <th>country_name</th>\n",
       "      <th>score_2022</th>\n",
       "      <th>enterprise_conditions</th>\n",
       "    </tr>\n",
       "  </thead>\n",
       "  <tbody>\n",
       "    <tr>\n",
       "      <th>0</th>\n",
       "      <td>Albania</td>\n",
       "      <td>66.6</td>\n",
       "      <td>65</td>\n",
       "    </tr>\n",
       "    <tr>\n",
       "      <th>1</th>\n",
       "      <td>Algeria</td>\n",
       "      <td>45.8</td>\n",
       "      <td>132</td>\n",
       "    </tr>\n",
       "    <tr>\n",
       "      <th>2</th>\n",
       "      <td>Angola</td>\n",
       "      <td>52.6</td>\n",
       "      <td>160</td>\n",
       "    </tr>\n",
       "    <tr>\n",
       "      <th>3</th>\n",
       "      <td>Argentina</td>\n",
       "      <td>50.1</td>\n",
       "      <td>117</td>\n",
       "    </tr>\n",
       "    <tr>\n",
       "      <th>4</th>\n",
       "      <td>Armenia</td>\n",
       "      <td>65.3</td>\n",
       "      <td>48</td>\n",
       "    </tr>\n",
       "    <tr>\n",
       "      <th>...</th>\n",
       "      <td>...</td>\n",
       "      <td>...</td>\n",
       "      <td>...</td>\n",
       "    </tr>\n",
       "    <tr>\n",
       "      <th>152</th>\n",
       "      <td>Uzbekistan</td>\n",
       "      <td>55.7</td>\n",
       "      <td>105</td>\n",
       "    </tr>\n",
       "    <tr>\n",
       "      <th>153</th>\n",
       "      <td>Venezuela</td>\n",
       "      <td>24.8</td>\n",
       "      <td>167</td>\n",
       "    </tr>\n",
       "    <tr>\n",
       "      <th>154</th>\n",
       "      <td>Vietnam</td>\n",
       "      <td>60.6</td>\n",
       "      <td>83</td>\n",
       "    </tr>\n",
       "    <tr>\n",
       "      <th>155</th>\n",
       "      <td>Zambia</td>\n",
       "      <td>48.7</td>\n",
       "      <td>95</td>\n",
       "    </tr>\n",
       "    <tr>\n",
       "      <th>156</th>\n",
       "      <td>Zimbabwe</td>\n",
       "      <td>33.1</td>\n",
       "      <td>150</td>\n",
       "    </tr>\n",
       "  </tbody>\n",
       "</table>\n",
       "<p>157 rows × 3 columns</p>\n",
       "</div>"
      ],
      "text/plain": [
       "    country_name  score_2022  enterprise_conditions\n",
       "0        Albania        66.6                     65\n",
       "1        Algeria        45.8                    132\n",
       "2         Angola        52.6                    160\n",
       "3      Argentina        50.1                    117\n",
       "4        Armenia        65.3                     48\n",
       "..           ...         ...                    ...\n",
       "152   Uzbekistan        55.7                    105\n",
       "153    Venezuela        24.8                    167\n",
       "154      Vietnam        60.6                     83\n",
       "155       Zambia        48.7                     95\n",
       "156     Zimbabwe        33.1                    150\n",
       "\n",
       "[157 rows x 3 columns]"
      ]
     },
     "execution_count": 5,
     "metadata": {},
     "output_type": "execute_result"
    }
   ],
   "source": [
    "legatum = pd.read_excel('legatum.xlsx')\n",
    "legatum"
   ]
  },
  {
   "cell_type": "code",
   "execution_count": 6,
   "id": "40e393cc",
   "metadata": {},
   "outputs": [
    {
     "name": "stdout",
     "output_type": "stream",
     "text": [
      "<class 'pandas.core.frame.DataFrame'>\n",
      "RangeIndex: 157 entries, 0 to 156\n",
      "Data columns (total 3 columns):\n",
      " #   Column                 Non-Null Count  Dtype  \n",
      "---  ------                 --------------  -----  \n",
      " 0   country_name           157 non-null    object \n",
      " 1   score_2022             157 non-null    float64\n",
      " 2   enterprise_conditions  157 non-null    int64  \n",
      "dtypes: float64(1), int64(1), object(1)\n",
      "memory usage: 3.8+ KB\n"
     ]
    }
   ],
   "source": [
    "legatum.info()"
   ]
  },
  {
   "cell_type": "code",
   "execution_count": 7,
   "id": "af9c4123",
   "metadata": {},
   "outputs": [
    {
     "data": {
      "text/html": [
       "<div>\n",
       "<style scoped>\n",
       "    .dataframe tbody tr th:only-of-type {\n",
       "        vertical-align: middle;\n",
       "    }\n",
       "\n",
       "    .dataframe tbody tr th {\n",
       "        vertical-align: top;\n",
       "    }\n",
       "\n",
       "    .dataframe thead th {\n",
       "        text-align: right;\n",
       "    }\n",
       "</style>\n",
       "<table border=\"1\" class=\"dataframe\">\n",
       "  <thead>\n",
       "    <tr style=\"text-align: right;\">\n",
       "      <th></th>\n",
       "      <th>score_2022</th>\n",
       "      <th>enterprise_conditions</th>\n",
       "    </tr>\n",
       "  </thead>\n",
       "  <tbody>\n",
       "    <tr>\n",
       "      <th>count</th>\n",
       "      <td>157.000000</td>\n",
       "      <td>157.000000</td>\n",
       "    </tr>\n",
       "    <tr>\n",
       "      <th>mean</th>\n",
       "      <td>60.289809</td>\n",
       "      <td>81.426752</td>\n",
       "    </tr>\n",
       "    <tr>\n",
       "      <th>std</th>\n",
       "      <td>11.151872</td>\n",
       "      <td>46.854549</td>\n",
       "    </tr>\n",
       "    <tr>\n",
       "      <th>min</th>\n",
       "      <td>24.800000</td>\n",
       "      <td>2.000000</td>\n",
       "    </tr>\n",
       "    <tr>\n",
       "      <th>25%</th>\n",
       "      <td>53.000000</td>\n",
       "      <td>41.000000</td>\n",
       "    </tr>\n",
       "    <tr>\n",
       "      <th>50%</th>\n",
       "      <td>59.600000</td>\n",
       "      <td>81.000000</td>\n",
       "    </tr>\n",
       "    <tr>\n",
       "      <th>75%</th>\n",
       "      <td>67.700000</td>\n",
       "      <td>120.000000</td>\n",
       "    </tr>\n",
       "    <tr>\n",
       "      <th>max</th>\n",
       "      <td>84.400000</td>\n",
       "      <td>167.000000</td>\n",
       "    </tr>\n",
       "  </tbody>\n",
       "</table>\n",
       "</div>"
      ],
      "text/plain": [
       "       score_2022  enterprise_conditions\n",
       "count  157.000000             157.000000\n",
       "mean    60.289809              81.426752\n",
       "std     11.151872              46.854549\n",
       "min     24.800000               2.000000\n",
       "25%     53.000000              41.000000\n",
       "50%     59.600000              81.000000\n",
       "75%     67.700000             120.000000\n",
       "max     84.400000             167.000000"
      ]
     },
     "execution_count": 7,
     "metadata": {},
     "output_type": "execute_result"
    }
   ],
   "source": [
    "legatum.describe()"
   ]
  },
  {
   "cell_type": "code",
   "execution_count": 8,
   "id": "c54c680f",
   "metadata": {},
   "outputs": [
    {
     "data": {
      "text/html": [
       "<div>\n",
       "<style scoped>\n",
       "    .dataframe tbody tr th:only-of-type {\n",
       "        vertical-align: middle;\n",
       "    }\n",
       "\n",
       "    .dataframe tbody tr th {\n",
       "        vertical-align: top;\n",
       "    }\n",
       "\n",
       "    .dataframe thead th {\n",
       "        text-align: right;\n",
       "    }\n",
       "</style>\n",
       "<table border=\"1\" class=\"dataframe\">\n",
       "  <thead>\n",
       "    <tr style=\"text-align: right;\">\n",
       "      <th></th>\n",
       "      <th>score_2022</th>\n",
       "      <th>enterprise_conditions</th>\n",
       "    </tr>\n",
       "  </thead>\n",
       "  <tbody>\n",
       "    <tr>\n",
       "      <th>score_2022</th>\n",
       "      <td>1.000000</td>\n",
       "      <td>-0.811559</td>\n",
       "    </tr>\n",
       "    <tr>\n",
       "      <th>enterprise_conditions</th>\n",
       "      <td>-0.811559</td>\n",
       "      <td>1.000000</td>\n",
       "    </tr>\n",
       "  </tbody>\n",
       "</table>\n",
       "</div>"
      ],
      "text/plain": [
       "                       score_2022  enterprise_conditions\n",
       "score_2022               1.000000              -0.811559\n",
       "enterprise_conditions   -0.811559               1.000000"
      ]
     },
     "execution_count": 8,
     "metadata": {},
     "output_type": "execute_result"
    }
   ],
   "source": [
    "legatum[['score_2022', 'enterprise_conditions']].corr()"
   ]
  },
  {
   "cell_type": "code",
   "execution_count": 9,
   "id": "851850fa",
   "metadata": {},
   "outputs": [
    {
     "data": {
      "image/png": "[encoded data removed]",
      "text/plain": [
       "<Figure size 432x288 with 1 Axes>"
      ]
     },
     "metadata": {
      "needs_background": "light"
     },
     "output_type": "display_data"
    }
   ],
   "source": [
    "plt.scatter(legatum['score_2022'], legatum['enterprise_conditions'])\n",
    "plt.show()"
   ]
  },
  {
   "cell_type": "code",
   "execution_count": 11,
   "id": "27bca86a",
   "metadata": {},
   "outputs": [
    {
     "data": {
      "image/png": "[encoded data removed]",
      "text/plain": [
       "<Figure size 576x432 with 1 Axes>"
      ]
     },
     "metadata": {
      "needs_background": "light"
     },
     "output_type": "display_data"
    }
   ],
   "source": [
    "fig, ax2 = plt.subplots(1, 1, figsize=(8, 6))\n",
    "ax2.scatter(legatum['score_2022'], legatum['enterprise_conditions'], color = 'b', alpha = 0.5)\n",
    "x = np.linspace(24, 85)\n",
    "ax2.plot(x, function2(x), color='r', linewidth=2)\n",
    "\n",
    "font = {'family': 'serif',\n",
    "        'color':  'grey',\n",
    "        'weight': 'light',\n",
    "        'size': 16}\n",
    "plt.text(22, 50, 'Correlation = - 0.81', fontdict=font)\n",
    "\n",
    "plt.grid()\n",
    "plt.title(\"Index Freedom vs Legatum Prosperity\")\n",
    "plt.xlabel(\"Индекс экономической свободы\")\n",
    "plt.ylabel(\"Условия для развития предприятия\");"
   ]
  },
  {
   "cell_type": "code",
   "execution_count": null,
   "id": "8e556936",
   "metadata": {},
   "outputs": [],
   "source": []
  },
  {
   "cell_type": "markdown",
   "id": "2a70d90b",
   "metadata": {},
   "source": [
    "## part 4. Index Freedom and Environmental Peformance"
   ]
  },
  {
   "cell_type": "code",
   "execution_count": 3,
   "id": "affb4fb6",
   "metadata": {},
   "outputs": [
    {
     "data": {
      "text/html": [
       "<div>\n",
       "<style scoped>\n",
       "    .dataframe tbody tr th:only-of-type {\n",
       "        vertical-align: middle;\n",
       "    }\n",
       "\n",
       "    .dataframe tbody tr th {\n",
       "        vertical-align: top;\n",
       "    }\n",
       "\n",
       "    .dataframe thead th {\n",
       "        text-align: right;\n",
       "    }\n",
       "</style>\n",
       "<table border=\"1\" class=\"dataframe\">\n",
       "  <thead>\n",
       "    <tr style=\"text-align: right;\">\n",
       "      <th></th>\n",
       "      <th>avg_epi</th>\n",
       "      <th>rating</th>\n",
       "    </tr>\n",
       "  </thead>\n",
       "  <tbody>\n",
       "    <tr>\n",
       "      <th>4</th>\n",
       "      <td>35.6</td>\n",
       "      <td>repressed</td>\n",
       "    </tr>\n",
       "    <tr>\n",
       "      <th>3</th>\n",
       "      <td>36.8</td>\n",
       "      <td>mostly_unfree</td>\n",
       "    </tr>\n",
       "    <tr>\n",
       "      <th>2</th>\n",
       "      <td>44.8</td>\n",
       "      <td>moderately_free</td>\n",
       "    </tr>\n",
       "    <tr>\n",
       "      <th>1</th>\n",
       "      <td>58.5</td>\n",
       "      <td>mostly_free</td>\n",
       "    </tr>\n",
       "    <tr>\n",
       "      <th>0</th>\n",
       "      <td>58.6</td>\n",
       "      <td>free</td>\n",
       "    </tr>\n",
       "  </tbody>\n",
       "</table>\n",
       "</div>"
      ],
      "text/plain": [
       "   avg_epi           rating\n",
       "4     35.6        repressed\n",
       "3     36.8    mostly_unfree\n",
       "2     44.8  moderately_free\n",
       "1     58.5      mostly_free\n",
       "0     58.6             free"
      ]
     },
     "execution_count": 3,
     "metadata": {},
     "output_type": "execute_result"
    }
   ],
   "source": [
    "epi = pd.read_csv('epi.csv').sort_values(by = 'avg_epi', ascending = True)\n",
    "epi"
   ]
  },
  {
   "cell_type": "code",
   "execution_count": 5,
   "id": "50b551b5",
   "metadata": {},
   "outputs": [
    {
     "data": {
      "image/png": "[encoded data removed]",
      "text/plain": [
       "<Figure size 1080x360 with 1 Axes>"
      ]
     },
     "metadata": {
      "needs_background": "light"
     },
     "output_type": "display_data"
    }
   ],
   "source": [
    "fig = plt.figure(figsize =(15, 5))\n",
    "bar_colors = ['tab:brown', 'tab:red', 'tab:orange', 'tab:cyan', 'tab:olive', 'tab:green']\n",
    "y4 = epi['avg_epi'].to_numpy()\n",
    "x4 = epi['rating'].to_numpy()\n",
    "plt.barh(x4, y4, color = bar_colors, ec = 'black')\n",
    "\n",
    "for index, value in enumerate(y4):\n",
    "    plt.text(value, index, str(value),fontsize = 12, ha ='left', va ='bottom')\n",
    "plt.grid() \n",
    "    \n",
    "plt.xlabel(\"Environmental Permormance Index Score\")\n",
    "plt.show();"
   ]
  },
  {
   "cell_type": "markdown",
   "id": "205123a1",
   "metadata": {},
   "source": [
    "## part 5. Economic Freedom 1995-2022"
   ]
  },
  {
   "cell_type": "code",
   "execution_count": 2,
   "id": "000ceda7",
   "metadata": {},
   "outputs": [
    {
     "data": {
      "text/html": [
       "<div>\n",
       "<style scoped>\n",
       "    .dataframe tbody tr th:only-of-type {\n",
       "        vertical-align: middle;\n",
       "    }\n",
       "\n",
       "    .dataframe tbody tr th {\n",
       "        vertical-align: top;\n",
       "    }\n",
       "\n",
       "    .dataframe thead th {\n",
       "        text-align: right;\n",
       "    }\n",
       "</style>\n",
       "<table border=\"1\" class=\"dataframe\">\n",
       "  <thead>\n",
       "    <tr style=\"text-align: right;\">\n",
       "      <th></th>\n",
       "      <th>year</th>\n",
       "      <th>avg_index</th>\n",
       "    </tr>\n",
       "  </thead>\n",
       "  <tbody>\n",
       "    <tr>\n",
       "      <th>0</th>\n",
       "      <td>1995-06-01</td>\n",
       "      <td>57.85</td>\n",
       "    </tr>\n",
       "    <tr>\n",
       "      <th>1</th>\n",
       "      <td>1996-06-01</td>\n",
       "      <td>56.90</td>\n",
       "    </tr>\n",
       "    <tr>\n",
       "      <th>2</th>\n",
       "      <td>1997-06-01</td>\n",
       "      <td>57.06</td>\n",
       "    </tr>\n",
       "    <tr>\n",
       "      <th>3</th>\n",
       "      <td>1998-06-01</td>\n",
       "      <td>57.02</td>\n",
       "    </tr>\n",
       "    <tr>\n",
       "      <th>4</th>\n",
       "      <td>1999-06-01</td>\n",
       "      <td>57.38</td>\n",
       "    </tr>\n",
       "  </tbody>\n",
       "</table>\n",
       "</div>"
      ],
      "text/plain": [
       "        year  avg_index\n",
       "0 1995-06-01      57.85\n",
       "1 1996-06-01      56.90\n",
       "2 1997-06-01      57.06\n",
       "3 1998-06-01      57.02\n",
       "4 1999-06-01      57.38"
      ]
     },
     "execution_count": 2,
     "metadata": {},
     "output_type": "execute_result"
    }
   ],
   "source": [
    "index_1995_2022 = pd.read_excel(\"index_1995_2022_avg_date.xlsx\")\n",
    "index_1995_2022.head()"
   ]
  },
  {
   "cell_type": "code",
   "execution_count": 3,
   "id": "f7c75f87",
   "metadata": {},
   "outputs": [
    {
     "name": "stdout",
     "output_type": "stream",
     "text": [
      "<class 'pandas.core.frame.DataFrame'>\n",
      "RangeIndex: 28 entries, 0 to 27\n",
      "Data columns (total 2 columns):\n",
      " #   Column     Non-Null Count  Dtype         \n",
      "---  ------     --------------  -----         \n",
      " 0   year       28 non-null     datetime64[ns]\n",
      " 1   avg_index  28 non-null     float64       \n",
      "dtypes: datetime64[ns](1), float64(1)\n",
      "memory usage: 576.0 bytes\n"
     ]
    }
   ],
   "source": [
    "index_1995_2022.info()"
   ]
  },
  {
   "cell_type": "code",
   "execution_count": 4,
   "id": "11916b4e",
   "metadata": {},
   "outputs": [
    {
     "data": {
      "text/html": [
       "<div>\n",
       "<style scoped>\n",
       "    .dataframe tbody tr th:only-of-type {\n",
       "        vertical-align: middle;\n",
       "    }\n",
       "\n",
       "    .dataframe tbody tr th {\n",
       "        vertical-align: top;\n",
       "    }\n",
       "\n",
       "    .dataframe thead th {\n",
       "        text-align: right;\n",
       "    }\n",
       "</style>\n",
       "<table border=\"1\" class=\"dataframe\">\n",
       "  <thead>\n",
       "    <tr style=\"text-align: right;\">\n",
       "      <th></th>\n",
       "      <th>avg_index</th>\n",
       "    </tr>\n",
       "  </thead>\n",
       "  <tbody>\n",
       "    <tr>\n",
       "      <th>count</th>\n",
       "      <td>28.000000</td>\n",
       "    </tr>\n",
       "    <tr>\n",
       "      <th>mean</th>\n",
       "      <td>59.511786</td>\n",
       "    </tr>\n",
       "    <tr>\n",
       "      <th>std</th>\n",
       "      <td>1.330467</td>\n",
       "    </tr>\n",
       "    <tr>\n",
       "      <th>min</th>\n",
       "      <td>56.900000</td>\n",
       "    </tr>\n",
       "    <tr>\n",
       "      <th>25%</th>\n",
       "      <td>59.150000</td>\n",
       "    </tr>\n",
       "    <tr>\n",
       "      <th>50%</th>\n",
       "      <td>59.630000</td>\n",
       "    </tr>\n",
       "    <tr>\n",
       "      <th>75%</th>\n",
       "      <td>60.320000</td>\n",
       "    </tr>\n",
       "    <tr>\n",
       "      <th>max</th>\n",
       "      <td>61.590000</td>\n",
       "    </tr>\n",
       "  </tbody>\n",
       "</table>\n",
       "</div>"
      ],
      "text/plain": [
       "       avg_index\n",
       "count  28.000000\n",
       "mean   59.511786\n",
       "std     1.330467\n",
       "min    56.900000\n",
       "25%    59.150000\n",
       "50%    59.630000\n",
       "75%    60.320000\n",
       "max    61.590000"
      ]
     },
     "execution_count": 4,
     "metadata": {},
     "output_type": "execute_result"
    }
   ],
   "source": [
    "index_1995_2022.describe()"
   ]
  },
  {
   "cell_type": "code",
   "execution_count": 5,
   "id": "6983719d",
   "metadata": {},
   "outputs": [
    {
     "data": {
      "image/png": "[encoded data removed]",
      "text/plain": [
       "<Figure size 1080x360 with 1 Axes>"
      ]
     },
     "metadata": {
      "needs_background": "light"
     },
     "output_type": "display_data"
    }
   ],
   "source": [
    "# plot by default\n",
    "fig = plt.figure(figsize =(15, 5))\n",
    "plt.plot(index_1995_2022.year, index_1995_2022.avg_index, linewidth=3)\n",
    "plt.grid()\n",
    "plt.title('Index by Year')\n",
    "plt.ylabel('Среднее значение индекса экономической свободы')\n",
    "plt.show()"
   ]
  },
  {
   "cell_type": "code",
   "execution_count": 6,
   "id": "21f616b1",
   "metadata": {},
   "outputs": [
    {
     "data": {
      "image/png": "[encoded data removed]",
      "text/plain": [
       "<Figure size 1080x360 with 1 Axes>"
      ]
     },
     "metadata": {
      "needs_background": "light"
     },
     "output_type": "display_data"
    }
   ],
   "source": [
    "fig = plt.figure(figsize =(15, 5))\n",
    "plt.plot(index_1995_2022.year, index_1995_2022.avg_index, linewidth=3)\n",
    "plt.ylim([50, 70])\n",
    "plt.grid(True)\n",
    "plt.title('Index by Year')\n",
    "plt.ylabel('Среднее значение индекса экономической свободы')\n",
    "plt.show()"
   ]
  },
  {
   "cell_type": "code",
   "execution_count": null,
   "id": "676ba514",
   "metadata": {},
   "outputs": [],
   "source": []
  }
 ],
 "metadata": {
  "kernelspec": {
   "display_name": "Python 3 (ipykernel)",
   "language": "python",
   "name": "python3"
  },
  "language_info": {
   "codemirror_mode": {
    "name": "ipython",
    "version": 3
   },
   "file_extension": ".py",
   "mimetype": "text/x-python",
   "name": "python",
   "nbconvert_exporter": "python",
   "pygments_lexer": "ipython3",
   "version": "3.10.2"
  }
 },
 "nbformat": 4,
 "nbformat_minor": 5
}
